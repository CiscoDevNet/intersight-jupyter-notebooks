{
 "cells": [
  {
   "cell_type": "markdown",
   "source": [
    "# Intersight Python SDK Query Examples\n",
    "\n",
    "The following examples use Intersight's query languange to get information from several Intersight API resources.  If you haven't already installed the Python SDK, please follow the detailed instructions in the [operations notebook](https://github.com/CiscoDevNet/intersight-jupyter-notebooks/blob/main/intersight_ucs_x_operations_python_sdk.ipynb).\n",
    "\n",
    "To get started, we'll create an API client and use it to connect with Intersight.\n",
    "\n",
    "> The values below only serve as an example so they won't work in your environment.  Be sure to enter the values for your account in the `key_id` variable below as well as the `private_key_path`.  Also be sure that you are using v3 API keys from your Intersight account."
   ],
   "metadata": {}
  },
  {
   "cell_type": "code",
   "execution_count": null,
   "source": [
    "import intersight\n",
    "\n",
    "configuration = intersight.Configuration(\n",
    "    signing_info=intersight.HttpSigningConfiguration(\n",
    "        key_id='596cc79e5d91b400010d15ad/5db71f977564612d30cc3860/5e9217a57564612d302f475b',\n",
    "        private_key_path='/Users/dsoper/Downloads/SecretKey.txt',\n",
    "        signing_scheme=intersight.signing.SCHEME_HS2019,\n",
    "        signed_headers=[intersight.signing.HEADER_HOST,\n",
    "                        intersight.signing.HEADER_DATE,\n",
    "                        intersight.signing.HEADER_DIGEST,\n",
    "                        intersight.signing.HEADER_REQUEST_TARGET\n",
    "                        ]\n",
    "    )\n",
    ")\n",
    "api_client = intersight.ApiClient(configuration)\n"
   ],
   "outputs": [],
   "metadata": {
    "dotnet_interactive": {
     "language": "pwsh"
    }
   }
  },
  {
   "cell_type": "markdown",
   "source": [
    "## Inventory Query Examples\n",
    "\n",
    "Now that you are authenticated, let's use the SDK to query server and related resources in Intersight.  You can read more on [Intersight's API query language](https://www.intersight.com/apidocs/introduction/query/), and to get an idea of the resources used by the API you can look at the URIs your browser uses (compute/physical-summaries below).\n",
    "\n",
    "![Browser Compute Summary](images/browser_compute_phys_summary.png)\n",
    "\n",
    "The Python example below sets up a query filter to get a count of servers and selects attributes to return."
   ],
   "metadata": {}
  },
  {
   "cell_type": "code",
   "execution_count": null,
   "source": [
    "import intersight.api.compute_api\n",
    "\n",
    "# Create physical summary (server) class instance\n",
    "api_instance = intersight.api.compute_api.ComputeApi(api_client)\n",
    "\n",
    "# Find the count of servers in the account\n",
    "server_query = api_instance.get_compute_physical_summary_list(count=True)\n",
    "print(server_query)\n",
    "\n",
    "# Intersight limits the number of items returned.  Page through returned results and select Name, Model, Serial\n",
    "per_page = 50\n",
    "query_select = \"Name,Model,Serial\"\n",
    "for i in range(0, server_query.count, per_page):\n",
    "    page_query = api_instance.get_compute_physical_summary_list(top=per_page, skip=i, select=query_select)\n",
    "    print(page_query)\n"
   ],
   "outputs": [],
   "metadata": {
    "dotnet_interactive": {
     "language": "pwsh"
    }
   }
  },
  {
   "cell_type": "markdown",
   "source": [
    "### Detailed Inventory\n",
    "\n",
    "Building on the server inventory example above, we'll now look at Intersight's resource model to get information on server components like physical disks.  We can search in the API for specific disk Model numbers or search for Models that contain a certian substring.  Below we will search for physical disks Model numbers that contain a certain substring. "
   ],
   "metadata": {}
  },
  {
   "cell_type": "code",
   "execution_count": null,
   "source": [
    "import intersight.api.storage_api\n",
    "\n",
    "# Create storage class instance\n",
    "api_instance = intersight.api.storage_api.StorageApi(api_client)\n",
    "\n",
    "# Setup query options\n",
    "query_filter = \"contains(Model,'UCS')\"\n",
    "query_select = \"Dn,Model,RegisteredDevice,RunningFirmware\"\n",
    "query_expand = \"RegisteredDevice($select=DeviceHostname),RunningFirmware($select=Version)\"\n",
    "\n",
    "# Get physcial disks that contain the Model substring defined above\n",
    "storage_query = api_instance.get_storage_physical_disk_list(filter=query_filter, select=query_select, expand=query_expand)\n",
    "print(storage_query)\n"
   ],
   "outputs": [],
   "metadata": {}
  },
  {
   "cell_type": "markdown",
   "source": [
    "### Telemetry Data\n",
    "\n",
    "Intersight periodically collects data from certain resources, and the API can be used to retrieve the data as a time series.  Below is an example of retrieving time series data."
   ],
   "metadata": {}
  },
  {
   "cell_type": "code",
   "execution_count": null,
   "source": [
    "from pprint import pformat\n",
    "from datetime import datetime, timedelta\n",
    "\n",
    "import intersight.api.telemetry_api\n",
    "import intersight.model.telemetry_druid_time_series_request\n",
    "import intersight.model.telemetry_druid_data_source\n",
    "import intersight.model.telemetry_druid_period_granularity\n",
    "import intersight.model.telemetry_druid_aggregator\n",
    "\n",
    "# Create an instance of the telemtry service\n",
    "api_instance = intersight.api.telemetry_api.TelemetryApi(api_client)\n",
    "\n",
    "# Build the request model for ethernet port statistics over a given time period\n",
    "end_time = datetime.now()\n",
    "start_time = end_time - timedelta(days=2)\n",
    "# Convert date object to formatted date string for use with intersight queries\n",
    "start_str = f\"{start_time.strftime('%Y-%m-%dT%H:%M:%S.%f')[:-3]}Z\"\n",
    "end_str = f\"{end_time.strftime('%Y-%m-%dT%H:%M:%S.%f')[:-3]}Z\"\n",
    "req_model = intersight.model.telemetry_druid_time_series_request.TelemetryDruidTimeSeriesRequest(\n",
    "    query_type=\"timeseries\",\n",
    "    data_source=intersight.model.telemetry_druid_data_source.TelemetryDruidDataSource(\n",
    "        type=\"table\",\n",
    "        name=\"ucs_ether_port_stat\",\n",
    "    ),\n",
    "    intervals=[\n",
    "        f\"{start_str}/{end_str}\"\n",
    "    ],\n",
    "    granularity=intersight.model.telemetry_druid_period_granularity.TelemetryDruidPeriodGranularity(\n",
    "        type=\"period\",\n",
    "        period=\"PT12H\",\n",
    "    ),\n",
    "    aggregations=[\n",
    "        intersight.model.telemetry_druid_aggregator.TelemetryDruidAggregator(\n",
    "            field_name=\"sumBytesTx\",\n",
    "            type=\"longSum\",\n",
    "            name=\"traffic\",\n",
    "            field_names=[\"sumBytesTx\"]\n",
    "        ),\n",
    "    ]\n",
    ")\n",
    "\n",
    "# Query the telemetry API using the request model\n",
    "telemetry_data = api_instance.query_telemetry_time_series(telemetry_druid_time_series_request=req_model)\n",
    "print(pformat(telemetry_data))\n"
   ],
   "outputs": [],
   "metadata": {}
  },
  {
   "cell_type": "markdown",
   "source": [
    "## Additional Examples\n",
    "\n",
    "Several additional examples of using the SDK are on GitHub in the [Intersight Python Utilties repo](https://github.com/CiscoDevNet/intersight-python-utils).  The repo also contains a credentials.py module to simplify authentication across all of the example scripts."
   ],
   "metadata": {}
  }
 ],
 "metadata": {
  "kernelspec": {
   "name": "python3",
   "display_name": "Python 3.9.4 64-bit"
  },
  "language_info": {
   "name": "python",
   "version": "3.9.4",
   "mimetype": "text/x-python",
   "codemirror_mode": {
    "name": "ipython",
    "version": 3
   },
   "pygments_lexer": "ipython3",
   "nbconvert_exporter": "python",
   "file_extension": ".py"
  },
  "interpreter": {
   "hash": "aee8b7b246df8f9039afb4144a1f6fd8d2ca17a180786b69acc140d282b71a49"
  }
 },
 "nbformat": 4,
 "nbformat_minor": 4
}