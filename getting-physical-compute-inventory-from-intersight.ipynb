{
 "cells": [
  {
   "cell_type": "markdown",
   "metadata": {},
   "source": [
    "# Getting Physical Compute Inventory from Intersight using the Cisco Intersight REST API with Python\n",
    "\n",
    "Learn how to retrieve a list of physical compute inventory from Cisco Intersight.\n",
    "\n",
    "\n",
    "## Objectives\n",
    "\n",
    "The objective of this lab is to show how to:\n",
    "\n",
    "* Authenticate with the Intersight REST API\n",
    "* Call the Intersight REST API to pull a list of physical compute resources\n",
    "\n",
    "## Prerequisites\n",
    "\n",
    "Before getting started with this lab, you will need the following:\n",
    "\n",
    "* An Intersight account (you may also need a Cisco account for credentials)\n",
    "* API key\n",
    "* API secret available \n",
    "\n",
    "## Overview\n",
    "\n",
    "Intersight has many capabilities and one of them is managing on-premises compute resources such as Cisco UCS servers. The process of making UCS servers available to Intersight is known as a claim. Thus, an administrator must first claim UCS servers before they are available as a resource in Intersight. After a UCS servers are claimed, they show up in inventory as physical compute servers.\n",
    "\n",
    "In this lab we call the Intersight REST API's using Python and retrieve the inventory of physical compute resources claimed in Intersight.\n",
    "\n",
    "\n",
    "## Step 1: Lorem Ipsum Dolor\n",
    "\n",
    "Step 1 is the first major step. It should appear on the first page (1.md). Use action words that are imperatives, such as \"Create...\", \"Understand...\", \"Set Up...\", \"Open...\", \"Define...\", etc.\n",
    "\n",
    "### Code Examples\n",
    "\n",
    "In markdown, you have multiple options to style code including inline words or phrases or entire code snippets. For inline code blocks, wrap them in backticks: `var example = true`. For longer blocks of code, indent with four spaces or with backticks without the indent.\n",
    "\n",
    "    if (isAwesome){\n",
    "      return true\n",
    "    }\n",
    "\n",
    "Markdown also supports something called code fencing, which allows for multiple lines surrounded by triple backticks:\n",
    "\n",
    "```\n",
    "if (isAwesome){\n",
    "  return true\n",
    "}\n",
    "```\n",
    "\n",
    "For syntax highlighting, include the language in the top line after the three backticks.\n",
    "\n",
    "```javascript\n",
    "if (isAwesome){\n",
    "  return true\n",
    "}\n",
    "```\n",
    "\n",
    "```python\n",
    "if choice == \"you're awesome\":\n",
    "  print(\"Yes, I am awesome\")\n",
    "elif:\n",
    "  print(\"No, you're awesome\")\n",
    "}\n",
    "```\n",
    "\n",
    "### Images\n",
    "\n",
    "Use the following markdown syntax to add an image. Relative paths are now supported:\n",
    "\n",
    "> `![](assets/images/image_filename.png)`\n",
    "\n",
    "where `lab-dir-and-id` is the name of the directory containing the subdirectory assets/images.\n",
    "\n",
    "For example, here is a test.png image:\n",
    "\n",
    "![](assets/images/test_image.png)\n",
    "\n",
    "Prior to March 2018, the publishing engine used to require `/posts/files` in the path in order to parse the assets and images.\n",
    "\n",
    "If you need substeps and sequence matters, use numbered steps. Use bullet points if the sequence of steps does not matter. If the substeps amount to more than 9 steps, break up the procedure into separate major steps (put each major step on its own page).\n",
    "\n",
    "To do blah-blah (you may have a short intro sentence to substeps):\n",
    "\n",
    "1. Lorem ipsum dolor sit amet, massa ligula tellus pellentesque diam, per phasellus natoque etiam vel et. Pellentesque ornare elit ullamcorper pellentesque vel.\n",
    "  > Note: This is a note that is indented to go with the prior step.\n",
    "\n",
    "1. Here's a substep with an inline image.\n",
    "  ![](assets/images/test_image.png)\n",
    "\n",
    "1. Eu malesuada laoreet, et tincidunt arcu, tellus placerat, integer proin augue quis in, luctus sit integer interdum pellentesque consectetuer.\n",
    "1. Links look like this: [Here is a link](http://www.cisco.com).\n",
    "\n",
    "**Next Step: Provide Title of the Next Step**\n"
   ]
  },
  {
   "cell_type": "code",
   "execution_count": 7,
   "metadata": {},
   "outputs": [],
   "source": [
    "\"\"\"\n",
    "    intersight_ucs_x_operations.py - shows how to use intersight REST API\n",
    "\n",
    "    author: Mel Delgado (delgadm@cisco.com)\n",
    "\"\"\"\n",
    "import json\n",
    "import requests\n",
    "\n",
    "#from intersight_auth import IntersightAuth"
   ]
  },
  {
   "cell_type": "markdown",
   "metadata": {},
   "source": [
    "## Let's first declare an AUTH object\n",
    "\n",
    "The private key is available in your Intersight account. Copy/paste the values and add them to a blank file named `SecretKey.txt`. Also, get a hold of your API key and copy/paste the value into the `api_key_id` variable below."
   ]
  },
  {
   "cell_type": "code",
   "execution_count": 8,
   "metadata": {},
   "outputs": [
    {
     "ename": "NameError",
     "evalue": "name 'IntersightAuth' is not defined",
     "output_type": "error",
     "traceback": [
      "\u001b[0;31m---------------------------------------------------------------------------\u001b[0m",
      "\u001b[0;31mNameError\u001b[0m                                 Traceback (most recent call last)",
      "\u001b[0;32m<ipython-input-8-c7844cdf1c1f>\u001b[0m in \u001b[0;36m<module>\u001b[0;34m\u001b[0m\n\u001b[0;32m----> 1\u001b[0;31m AUTH = IntersightAuth(\n\u001b[0m\u001b[1;32m      2\u001b[0m     \u001b[0msecret_key_filename\u001b[0m\u001b[0;34m=\u001b[0m\u001b[0;34m'./key/SecretKey.txt'\u001b[0m\u001b[0;34m,\u001b[0m\u001b[0;34m\u001b[0m\u001b[0;34m\u001b[0m\u001b[0m\n\u001b[1;32m      3\u001b[0m     \u001b[0mapi_key_id\u001b[0m\u001b[0;34m=\u001b[0m\u001b[0;34m'paste_your_api_key_here'\u001b[0m\u001b[0;34m\u001b[0m\u001b[0;34m\u001b[0m\u001b[0m\n\u001b[1;32m      4\u001b[0m     )\n",
      "\u001b[0;31mNameError\u001b[0m: name 'IntersightAuth' is not defined"
     ]
    }
   ],
   "source": [
    "AUTH = IntersightAuth(\n",
    "    secret_key_filename='./key/SecretKey.txt',\n",
    "    api_key_id='paste_your_api_key_here'\n",
    "    )"
   ]
  },
  {
   "cell_type": "markdown",
   "metadata": {},
   "source": [
    "## Establish a base URL\n",
    "We'll use the base URL of `https://www.intersight.com/api/v1/` for this exercise."
   ]
  },
  {
   "cell_type": "code",
   "execution_count": 4,
   "metadata": {},
   "outputs": [],
   "source": [
    "BURL = 'https://www.intersight.com/api/v1/'"
   ]
  },
  {
   "cell_type": "markdown",
   "metadata": {},
   "source": [
    "# Example GET operation"
   ]
  },
  {
   "cell_type": "markdown",
   "metadata": {},
   "source": [
    "## Explore the GET operation by pulling a summary of phsyical equipment\n",
    "\n",
    "The GET operations provide insight into the hardware claimed by Intersight. In the example below, we'll get an inventory of compute nodes and see if they are managed by IMM (Intersight Managed Mode).\n",
    "\n",
    "First we'll set up a list containing a dictionary of the operation we would like to perform:"
   ]
  },
  {
   "cell_type": "code",
   "execution_count": 21,
   "metadata": {},
   "outputs": [],
   "source": [
    "OPERATION = [\n",
    "        {\n",
    "            \"resource_path\":\"compute/PhysicalSummaries\",\n",
    "            \"request_method\":\"GET\"\n",
    "        }\n",
    "]"
   ]
  },
  {
   "cell_type": "code",
   "execution_count": 22,
   "metadata": {},
   "outputs": [],
   "source": [
    "response = requests.get(\n",
    "                    BURL + OPERATION[0]['resource_path'],\n",
    "                    auth=AUTH\n",
    "                    )"
   ]
  },
  {
   "cell_type": "code",
   "execution_count": 23,
   "metadata": {},
   "outputs": [
    {
     "data": {
      "text/plain": [
       "[{'AccountMoid': '60c9136c7564612d334c51db',\n",
       "  'AdminPowerState': '',\n",
       "  'AlarmSummary': {'ClassId': 'compute.AlarmSummary',\n",
       "   'Critical': 0,\n",
       "   'ObjectType': 'compute.AlarmSummary',\n",
       "   'Warning': 0},\n",
       "  'Ancestors': [{'ClassId': 'mo.MoRef',\n",
       "    'Moid': '60d383e86176752d33534964',\n",
       "    'ObjectType': 'equipment.Chassis',\n",
       "    'link': 'https://www.intersight.com/api/v1/equipment/Chasses/60d383e86176752d33534964'}],\n",
       "  'AssetTag': '',\n",
       "  'AvailableMemory': 512,\n",
       "  'BiosPostComplete': True,\n",
       "  'ChassisId': '1',\n",
       "  'ClassId': 'compute.PhysicalSummary',\n",
       "  'ConnectionStatus': '',\n",
       "  'CpuCapacity': 166.4,\n",
       "  'CreateTime': '2021-06-23T19:01:30.381Z',\n",
       "  'DeviceMoId': '60d3849c6f72612d33558fd9',\n",
       "  'Dn': '/redfish/v1/Systems/FCH243974Z5',\n",
       "  'DomainGroupMoid': '60c9136c7564612d334c51dc',\n",
       "  'EquipmentChassis': {'ClassId': 'mo.MoRef',\n",
       "   'Moid': '60d383e86176752d33534964',\n",
       "   'ObjectType': 'equipment.Chassis',\n",
       "   'link': 'https://www.intersight.com/api/v1/equipment/Chasses/60d383e86176752d33534964'},\n",
       "  'FaultSummary': 0,\n",
       "  'Firmware': '4.1(5h)',\n",
       "  'InventoryDeviceInfo': None,\n",
       "  'Ipv4Address': '127.0.0.1',\n",
       "  'KvmIpAddresses': [],\n",
       "  'ManagementMode': 'Intersight',\n",
       "  'MemorySpeed': '3200',\n",
       "  'MgmtIpAddress': '',\n",
       "  'ModTime': '2021-08-03T22:23:47.11Z',\n",
       "  'Model': 'UCSX-210C-M6',\n",
       "  'Moid': '60d3850a6176752d3353eccb',\n",
       "  'Name': 'AA16-6454-1-2',\n",
       "  'NumAdaptors': 1,\n",
       "  'NumCpuCores': 64,\n",
       "  'NumCpuCoresEnabled': 64,\n",
       "  'NumCpus': 2,\n",
       "  'NumEthHostInterfaces': 0,\n",
       "  'NumFcHostInterfaces': 0,\n",
       "  'NumThreads': 128,\n",
       "  'ObjectType': 'compute.PhysicalSummary',\n",
       "  'OperPowerState': 'on',\n",
       "  'OperReason': [],\n",
       "  'OperState': '',\n",
       "  'Operability': '',\n",
       "  'Owners': ['60c9136c7564612d334c51db',\n",
       "   '60d377506f72612d3084f1c6',\n",
       "   '60d3849c6f72612d33558fd9'],\n",
       "  'Parent': {'ClassId': 'mo.MoRef',\n",
       "   'Moid': '60d383e86176752d33534964',\n",
       "   'ObjectType': 'equipment.Chassis',\n",
       "   'link': 'https://www.intersight.com/api/v1/equipment/Chasses/60d383e86176752d33534964'},\n",
       "  'PermissionResources': [{'ClassId': 'mo.MoRef',\n",
       "    'Moid': '60c9136f6972652d31ab7b71',\n",
       "    'ObjectType': 'organization.Organization',\n",
       "    'link': 'https://www.intersight.com/api/v1/organization/Organizations/60c9136f6972652d31ab7b71'},\n",
       "   {'ClassId': 'mo.MoRef',\n",
       "    'Moid': '60d3784d6972652d3101645f',\n",
       "    'ObjectType': 'organization.Organization',\n",
       "    'link': 'https://www.intersight.com/api/v1/organization/Organizations/60d3784d6972652d3101645f'}],\n",
       "  'PlatformType': 'IMCBlade',\n",
       "  'Presence': 'equipped',\n",
       "  'RegisteredDevice': {'ClassId': 'mo.MoRef',\n",
       "   'Moid': '60d3849c6f72612d33558fd9',\n",
       "   'ObjectType': 'asset.DeviceRegistration',\n",
       "   'link': 'https://www.intersight.com/api/v1/asset/DeviceRegistrations/60d3849c6f72612d33558fd9'},\n",
       "  'Revision': '',\n",
       "  'Rn': '',\n",
       "  'ScaledMode': '',\n",
       "  'Serial': 'FCH243974Z5',\n",
       "  'ServerId': 0,\n",
       "  'ServiceProfile': '',\n",
       "  'SharedScope': '',\n",
       "  'SlotId': 2,\n",
       "  'SourceObjectType': 'compute.Blade',\n",
       "  'Tags': [{'Key': 'Intersight.LicenseTier', 'Value': 'Premier'}],\n",
       "  'TopologyScanStatus': '',\n",
       "  'TotalMemory': 524288,\n",
       "  'UserLabel': '',\n",
       "  'Uuid': '13580D52-2F86-4FFC-BFD5-21CF1ACF0D88',\n",
       "  'Vendor': 'Cisco Systems Inc'},\n",
       " {'AccountMoid': '60c9136c7564612d334c51db',\n",
       "  'AdminPowerState': '',\n",
       "  'AlarmSummary': {'ClassId': 'compute.AlarmSummary',\n",
       "   'Critical': 0,\n",
       "   'ObjectType': 'compute.AlarmSummary',\n",
       "   'Warning': 0},\n",
       "  'Ancestors': [{'ClassId': 'mo.MoRef',\n",
       "    'Moid': '60d383e86176752d33534964',\n",
       "    'ObjectType': 'equipment.Chassis',\n",
       "    'link': 'https://www.intersight.com/api/v1/equipment/Chasses/60d383e86176752d33534964'}],\n",
       "  'AssetTag': '',\n",
       "  'AvailableMemory': 512,\n",
       "  'BiosPostComplete': True,\n",
       "  'ChassisId': '1',\n",
       "  'ClassId': 'compute.PhysicalSummary',\n",
       "  'ConnectionStatus': '',\n",
       "  'CpuCapacity': 166.4,\n",
       "  'CreateTime': '2021-06-23T19:01:40.581Z',\n",
       "  'DeviceMoId': '60d384a66f72612d33559224',\n",
       "  'Dn': '/redfish/v1/Systems/FCH243974UU',\n",
       "  'DomainGroupMoid': '60c9136c7564612d334c51dc',\n",
       "  'EquipmentChassis': {'ClassId': 'mo.MoRef',\n",
       "   'Moid': '60d383e86176752d33534964',\n",
       "   'ObjectType': 'equipment.Chassis',\n",
       "   'link': 'https://www.intersight.com/api/v1/equipment/Chasses/60d383e86176752d33534964'},\n",
       "  'FaultSummary': 0,\n",
       "  'Firmware': '4.1(5h)',\n",
       "  'InventoryDeviceInfo': None,\n",
       "  'Ipv4Address': '127.0.0.1',\n",
       "  'KvmIpAddresses': [],\n",
       "  'ManagementMode': 'Intersight',\n",
       "  'MemorySpeed': '3200',\n",
       "  'MgmtIpAddress': '',\n",
       "  'ModTime': '2021-08-03T22:25:00.809Z',\n",
       "  'Model': 'UCSX-210C-M6',\n",
       "  'Moid': '60d385146176752d3353f209',\n",
       "  'Name': 'AA16-6454-1-1',\n",
       "  'NumAdaptors': 1,\n",
       "  'NumCpuCores': 64,\n",
       "  'NumCpuCoresEnabled': 64,\n",
       "  'NumCpus': 2,\n",
       "  'NumEthHostInterfaces': 0,\n",
       "  'NumFcHostInterfaces': 0,\n",
       "  'NumThreads': 128,\n",
       "  'ObjectType': 'compute.PhysicalSummary',\n",
       "  'OperPowerState': 'on',\n",
       "  'OperReason': [],\n",
       "  'OperState': '',\n",
       "  'Operability': '',\n",
       "  'Owners': ['60c9136c7564612d334c51db',\n",
       "   '60d377506f72612d3084f1c6',\n",
       "   '60d384a66f72612d33559224'],\n",
       "  'Parent': {'ClassId': 'mo.MoRef',\n",
       "   'Moid': '60d383e86176752d33534964',\n",
       "   'ObjectType': 'equipment.Chassis',\n",
       "   'link': 'https://www.intersight.com/api/v1/equipment/Chasses/60d383e86176752d33534964'},\n",
       "  'PermissionResources': [{'ClassId': 'mo.MoRef',\n",
       "    'Moid': '60c9136f6972652d31ab7b71',\n",
       "    'ObjectType': 'organization.Organization',\n",
       "    'link': 'https://www.intersight.com/api/v1/organization/Organizations/60c9136f6972652d31ab7b71'},\n",
       "   {'ClassId': 'mo.MoRef',\n",
       "    'Moid': '60d3784d6972652d3101645f',\n",
       "    'ObjectType': 'organization.Organization',\n",
       "    'link': 'https://www.intersight.com/api/v1/organization/Organizations/60d3784d6972652d3101645f'}],\n",
       "  'PlatformType': 'IMCBlade',\n",
       "  'Presence': 'equipped',\n",
       "  'RegisteredDevice': {'ClassId': 'mo.MoRef',\n",
       "   'Moid': '60d384a66f72612d33559224',\n",
       "   'ObjectType': 'asset.DeviceRegistration',\n",
       "   'link': 'https://www.intersight.com/api/v1/asset/DeviceRegistrations/60d384a66f72612d33559224'},\n",
       "  'Revision': '',\n",
       "  'Rn': '',\n",
       "  'ScaledMode': '',\n",
       "  'Serial': 'FCH243974UU',\n",
       "  'ServerId': 0,\n",
       "  'ServiceProfile': '',\n",
       "  'SharedScope': '',\n",
       "  'SlotId': 1,\n",
       "  'SourceObjectType': 'compute.Blade',\n",
       "  'Tags': [{'Key': 'Intersight.LicenseTier', 'Value': 'Premier'}],\n",
       "  'TopologyScanStatus': '',\n",
       "  'TotalMemory': 524288,\n",
       "  'UserLabel': '',\n",
       "  'Uuid': '524CCB06-0DFC-4403-A072-FB88A66A0BB5',\n",
       "  'Vendor': 'Cisco Systems Inc'}]"
      ]
     },
     "execution_count": 23,
     "metadata": {},
     "output_type": "execute_result"
    }
   ],
   "source": [
    "response.json()['Results']"
   ]
  },
  {
   "cell_type": "markdown",
   "metadata": {},
   "source": [
    "## Let's see how many items were returned by `Results`\n",
    "`Results` is a list which we can use the `len()` BIF to see how many results are returned. The result should tell us how many physical items are returned by the call to `compute/PhysicalSummaries`."
   ]
  },
  {
   "cell_type": "code",
   "execution_count": 24,
   "metadata": {},
   "outputs": [
    {
     "data": {
      "text/plain": [
       "2"
      ]
     },
     "execution_count": 24,
     "metadata": {},
     "output_type": "execute_result"
    }
   ],
   "source": [
    "len(response.json()['Results'])"
   ]
  },
  {
   "cell_type": "markdown",
   "metadata": {},
   "source": [
    "## Results - bringing it all together\n",
    "Great! Now we see the number of physical compute devices and now we can pull more information from the returned JSON and organize it by Device, Chassis ID, Management Mode, Model, Memory, and CPU. The Management Mode shows if the phsyical compute device is managed in Intersight Management Mode.\n",
    "\n",
    "> Intersight Managed Mode (IMM) is a new architecture that manages the UCS Fabric Interconnected systems through a Redfish-based standard model. If you are familiar with the UCS blades, it means the Fabric Interconnect is fully managed by Intersight. Instead of having the familiar UCSM (UCS Manager) interface available directly from the Fabric Interconnect, the interface and all of the Fabric Interconnect operations are managed by Intersight.\n",
    "\n",
    "We do some CLI formatting to organize our data and see the type of compute hardware managed by Intersight along with its resources (memory and CPU). Then, we iterate over the JSON data and pull the data we're interested in seeing. In this instance, the Model shows the UCS-X series hardware.\n",
    "\n",
    "> Experiment! See if you can add more information to the list below by choosing other items from the returned JSON data above. For example, you could add a column with `NumCpuCores` and or `Ipv4Address`."
   ]
  },
  {
   "cell_type": "code",
   "execution_count": 9,
   "metadata": {},
   "outputs": [
    {
     "name": "stdout",
     "output_type": "stream",
     "text": [
      "Device   Chassis ID   Management Mode    Model           Memory     CPU       \n"
     ]
    },
    {
     "ename": "NameError",
     "evalue": "name 'response' is not defined",
     "output_type": "error",
     "traceback": [
      "\u001b[0;31m---------------------------------------------------------------------------\u001b[0m",
      "\u001b[0;31mNameError\u001b[0m                                 Traceback (most recent call last)",
      "\u001b[0;32m<ipython-input-9-f5b29c157ef9>\u001b[0m in \u001b[0;36m<module>\u001b[0;34m\u001b[0m\n\u001b[1;32m      1\u001b[0m \u001b[0mprint\u001b[0m \u001b[0;34m(\u001b[0m\u001b[0;34m\"{:<8} {:12} {:<18} {:<15} {:<10} {:<10}\"\u001b[0m\u001b[0;34m.\u001b[0m\u001b[0mformat\u001b[0m\u001b[0;34m(\u001b[0m\u001b[0;34m'Device'\u001b[0m\u001b[0;34m,\u001b[0m\u001b[0;34m'Chassis ID'\u001b[0m\u001b[0;34m,\u001b[0m\u001b[0;34m'Management Mode'\u001b[0m\u001b[0;34m,\u001b[0m\u001b[0;34m'Model'\u001b[0m\u001b[0;34m,\u001b[0m\u001b[0;34m'Memory'\u001b[0m\u001b[0;34m,\u001b[0m\u001b[0;34m'CPU'\u001b[0m\u001b[0;34m)\u001b[0m\u001b[0;34m)\u001b[0m\u001b[0;34m\u001b[0m\u001b[0;34m\u001b[0m\u001b[0m\n\u001b[0;32m----> 2\u001b[0;31m \u001b[0;32mfor\u001b[0m \u001b[0mnum\u001b[0m\u001b[0;34m,\u001b[0m \u001b[0mitems\u001b[0m \u001b[0;32min\u001b[0m \u001b[0menumerate\u001b[0m\u001b[0;34m(\u001b[0m\u001b[0mresponse\u001b[0m\u001b[0;34m.\u001b[0m\u001b[0mjson\u001b[0m\u001b[0;34m(\u001b[0m\u001b[0;34m)\u001b[0m\u001b[0;34m[\u001b[0m\u001b[0;34m'Results'\u001b[0m\u001b[0;34m]\u001b[0m\u001b[0;34m,\u001b[0m \u001b[0mstart\u001b[0m\u001b[0;34m=\u001b[0m\u001b[0;36m1\u001b[0m\u001b[0;34m)\u001b[0m\u001b[0;34m:\u001b[0m\u001b[0;34m\u001b[0m\u001b[0;34m\u001b[0m\u001b[0m\n\u001b[0m\u001b[1;32m      3\u001b[0m     \u001b[0mprint\u001b[0m \u001b[0;34m(\u001b[0m\u001b[0;34m\"{:<8} {:<12} {:<18} {:<15} {:<10} {:<10}\"\u001b[0m\u001b[0;34m.\u001b[0m\u001b[0mformat\u001b[0m\u001b[0;34m(\u001b[0m\u001b[0mnum\u001b[0m\u001b[0;34m,\u001b[0m \u001b[0mitems\u001b[0m\u001b[0;34m[\u001b[0m\u001b[0;34m'ChassisId'\u001b[0m\u001b[0;34m]\u001b[0m\u001b[0;34m,\u001b[0m \u001b[0mitems\u001b[0m\u001b[0;34m[\u001b[0m\u001b[0;34m'ManagementMode'\u001b[0m\u001b[0;34m]\u001b[0m\u001b[0;34m,\u001b[0m \u001b[0mitems\u001b[0m\u001b[0;34m[\u001b[0m\u001b[0;34m'Model'\u001b[0m\u001b[0;34m]\u001b[0m\u001b[0;34m,\u001b[0m \u001b[0mitems\u001b[0m\u001b[0;34m[\u001b[0m\u001b[0;34m'AvailableMemory'\u001b[0m\u001b[0;34m]\u001b[0m\u001b[0;34m,\u001b[0m \u001b[0mitems\u001b[0m\u001b[0;34m[\u001b[0m\u001b[0;34m'CpuCapacity'\u001b[0m\u001b[0;34m]\u001b[0m\u001b[0;34m)\u001b[0m\u001b[0;34m)\u001b[0m\u001b[0;34m\u001b[0m\u001b[0;34m\u001b[0m\u001b[0m\n",
      "\u001b[0;31mNameError\u001b[0m: name 'response' is not defined"
     ]
    }
   ],
   "source": [
    "print (\"{:<8} {:12} {:<18} {:<15} {:<10} {:<10}\".format('Device','Chassis ID','Management Mode','Model','Memory','CPU'))\n",
    "for num, items in enumerate(response.json()['Results'], start=1):\n",
    "    print (\"{:<8} {:<12} {:<18} {:<15} {:<10} {:<10}\".format(num, items['ChassisId'], items['ManagementMode'], items['Model'], items['AvailableMemory'], items['CpuCapacity']))"
   ]
  },
  {
   "cell_type": "markdown",
   "metadata": {},
   "source": [
    "# Example POST operation"
   ]
  },
  {
   "cell_type": "markdown",
   "metadata": {},
   "source": [
    "## Here's our next example\n",
    "Here are some thoughts about this next piece"
   ]
  },
  {
   "cell_type": "code",
   "execution_count": 2,
   "metadata": {},
   "outputs": [
    {
     "name": "stdout",
     "output_type": "stream",
     "text": [
      "hello world\n",
      "\n",
      "It's a wonderful world\n"
     ]
    }
   ],
   "source": [
    "print(\"hello world\")\n",
    "print(\"\\nIt's a wonderful world\")"
   ]
  },
  {
   "cell_type": "code",
   "execution_count": 5,
   "metadata": {},
   "outputs": [
    {
     "name": "stdout",
     "output_type": "stream",
     "text": [
      "hello world\n",
      "\n",
      "It's a wonderful world\n"
     ]
    }
   ],
   "source": [
    "print(\"hello world\")\n",
    "print(\"\\nIt's a wonderful world\")"
   ]
  },
  {
   "cell_type": "code",
   "execution_count": null,
   "metadata": {},
   "outputs": [],
   "source": []
  }
 ],
 "metadata": {
  "kernelspec": {
   "display_name": "Python 3",
   "language": "python",
   "name": "python3"
  },
  "language_info": {
   "codemirror_mode": {
    "name": "ipython",
    "version": 3
   },
   "file_extension": ".py",
   "mimetype": "text/x-python",
   "name": "python",
   "nbconvert_exporter": "python",
   "pygments_lexer": "ipython3",
   "version": "3.8.5"
  }
 },
 "nbformat": 4,
 "nbformat_minor": 4
}
