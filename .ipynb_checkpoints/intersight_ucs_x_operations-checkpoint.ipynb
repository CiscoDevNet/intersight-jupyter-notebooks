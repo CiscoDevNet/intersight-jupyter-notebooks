{
 "cells": [
  {
   "cell_type": "markdown",
   "metadata": {},
   "source": [
    "# Getting to know the Intersight API's\n",
    "\n",
    "In this Python file, we use basic authenticaton with the Intersight API's and perform a simple GET operation to display physical equipment claimed in Intersight. If you download this `*.ipynb` file and have Jupyter Notebook installed, you can replace the variables `secret_key_filename` and `api_key_id` below and this should work with your environment."
   ]
  },
  {
   "cell_type": "code",
   "execution_count": 1,
   "metadata": {},
   "outputs": [],
   "source": [
    "\"\"\"\n",
    "    intersight_ucs_x_operations.py - shows how to use intersight REST API\n",
    "\n",
    "    author: Mel Delgado (delgadm@cisco.com)\n",
    "\"\"\"\n",
    "import json\n",
    "import requests\n",
    "\n",
    "from intersight_auth import IntersightAuth"
   ]
  },
  {
   "cell_type": "markdown",
   "metadata": {},
   "source": [
    "## Let's first declare an AUTH object\n",
    "\n",
    "The private key is available in your Intersight account. Copy/paste the values and add them to a blank file named `SecretKey.txt`. Also, get a hold of your API key and copy/paste the value into the `api_key_id` variable below."
   ]
  },
  {
   "cell_type": "code",
   "execution_count": 3,
   "metadata": {},
   "outputs": [],
   "source": [
    "AUTH = IntersightAuth(\n",
    "    secret_key_filename='./key/SecretKey.txt',\n",
    "    api_key_id='paste_your_api_key_here'\n",
    "    )"
   ]
  },
  {
   "cell_type": "markdown",
   "metadata": {},
   "source": [
    "## Establish a base URL\n",
    "We'll use the base URL of `https://www.intersight.com/api/v1/` for this exercise."
   ]
  },
  {
   "cell_type": "code",
   "execution_count": 4,
   "metadata": {},
   "outputs": [],
   "source": [
    "BURL = 'https://www.intersight.com/api/v1/'"
   ]
  },
  {
   "cell_type": "markdown",
   "metadata": {},
   "source": [
    "# Example GET operation"
   ]
  },
  {
   "cell_type": "markdown",
   "metadata": {},
   "source": [
    "## Explore the GET operation by pulling a summary of phsyical equipment\n",
    "\n",
    "The GET operations provide insight into the hardware claimed by Intersight. In the example below, we'll get an inventory of compute nodes and see if they are managed by IMM (Intersight Managed Mode).\n",
    "\n",
    "First we'll set up a list containing a dictionary of the operation we would like to perform:"
   ]
  },
  {
   "cell_type": "code",
   "execution_count": 21,
   "metadata": {},
   "outputs": [],
   "source": [
    "OPERATION = [\n",
    "        {\n",
    "            \"resource_path\":\"compute/PhysicalSummaries\",\n",
    "            \"request_method\":\"GET\"\n",
    "        }\n",
    "]"
   ]
  },
  {
   "cell_type": "code",
   "execution_count": 22,
   "metadata": {},
   "outputs": [],
   "source": [
    "response = requests.get(\n",
    "                    BURL + OPERATION[0]['resource_path'],\n",
    "                    auth=AUTH\n",
    "                    )"
   ]
  },
  {
   "cell_type": "code",
   "execution_count": 23,
   "metadata": {},
   "outputs": [
    {
     "data": {
      "text/plain": [
       "[{'AccountMoid': '60c9136c7564612d334c51db',\n",
       "  'AdminPowerState': '',\n",
       "  'AlarmSummary': {'ClassId': 'compute.AlarmSummary',\n",
       "   'Critical': 0,\n",
       "   'ObjectType': 'compute.AlarmSummary',\n",
       "   'Warning': 0},\n",
       "  'Ancestors': [{'ClassId': 'mo.MoRef',\n",
       "    'Moid': '60d383e86176752d33534964',\n",
       "    'ObjectType': 'equipment.Chassis',\n",
       "    'link': 'https://www.intersight.com/api/v1/equipment/Chasses/60d383e86176752d33534964'}],\n",
       "  'AssetTag': '',\n",
       "  'AvailableMemory': 512,\n",
       "  'BiosPostComplete': True,\n",
       "  'ChassisId': '1',\n",
       "  'ClassId': 'compute.PhysicalSummary',\n",
       "  'ConnectionStatus': '',\n",
       "  'CpuCapacity': 166.4,\n",
       "  'CreateTime': '2021-06-23T19:01:30.381Z',\n",
       "  'DeviceMoId': '60d3849c6f72612d33558fd9',\n",
       "  'Dn': '/redfish/v1/Systems/FCH243974Z5',\n",
       "  'DomainGroupMoid': '60c9136c7564612d334c51dc',\n",
       "  'EquipmentChassis': {'ClassId': 'mo.MoRef',\n",
       "   'Moid': '60d383e86176752d33534964',\n",
       "   'ObjectType': 'equipment.Chassis',\n",
       "   'link': 'https://www.intersight.com/api/v1/equipment/Chasses/60d383e86176752d33534964'},\n",
       "  'FaultSummary': 0,\n",
       "  'Firmware': '4.1(5h)',\n",
       "  'InventoryDeviceInfo': None,\n",
       "  'Ipv4Address': '127.0.0.1',\n",
       "  'KvmIpAddresses': [],\n",
       "  'ManagementMode': 'Intersight',\n",
       "  'MemorySpeed': '3200',\n",
       "  'MgmtIpAddress': '',\n",
       "  'ModTime': '2021-08-03T22:23:47.11Z',\n",
       "  'Model': 'UCSX-210C-M6',\n",
       "  'Moid': '60d3850a6176752d3353eccb',\n",
       "  'Name': 'AA16-6454-1-2',\n",
       "  'NumAdaptors': 1,\n",
       "  'NumCpuCores': 64,\n",
       "  'NumCpuCoresEnabled': 64,\n",
       "  'NumCpus': 2,\n",
       "  'NumEthHostInterfaces': 0,\n",
       "  'NumFcHostInterfaces': 0,\n",
       "  'NumThreads': 128,\n",
       "  'ObjectType': 'compute.PhysicalSummary',\n",
       "  'OperPowerState': 'on',\n",
       "  'OperReason': [],\n",
       "  'OperState': '',\n",
       "  'Operability': '',\n",
       "  'Owners': ['60c9136c7564612d334c51db',\n",
       "   '60d377506f72612d3084f1c6',\n",
       "   '60d3849c6f72612d33558fd9'],\n",
       "  'Parent': {'ClassId': 'mo.MoRef',\n",
       "   'Moid': '60d383e86176752d33534964',\n",
       "   'ObjectType': 'equipment.Chassis',\n",
       "   'link': 'https://www.intersight.com/api/v1/equipment/Chasses/60d383e86176752d33534964'},\n",
       "  'PermissionResources': [{'ClassId': 'mo.MoRef',\n",
       "    'Moid': '60c9136f6972652d31ab7b71',\n",
       "    'ObjectType': 'organization.Organization',\n",
       "    'link': 'https://www.intersight.com/api/v1/organization/Organizations/60c9136f6972652d31ab7b71'},\n",
       "   {'ClassId': 'mo.MoRef',\n",
       "    'Moid': '60d3784d6972652d3101645f',\n",
       "    'ObjectType': 'organization.Organization',\n",
       "    'link': 'https://www.intersight.com/api/v1/organization/Organizations/60d3784d6972652d3101645f'}],\n",
       "  'PlatformType': 'IMCBlade',\n",
       "  'Presence': 'equipped',\n",
       "  'RegisteredDevice': {'ClassId': 'mo.MoRef',\n",
       "   'Moid': '60d3849c6f72612d33558fd9',\n",
       "   'ObjectType': 'asset.DeviceRegistration',\n",
       "   'link': 'https://www.intersight.com/api/v1/asset/DeviceRegistrations/60d3849c6f72612d33558fd9'},\n",
       "  'Revision': '',\n",
       "  'Rn': '',\n",
       "  'ScaledMode': '',\n",
       "  'Serial': 'FCH243974Z5',\n",
       "  'ServerId': 0,\n",
       "  'ServiceProfile': '',\n",
       "  'SharedScope': '',\n",
       "  'SlotId': 2,\n",
       "  'SourceObjectType': 'compute.Blade',\n",
       "  'Tags': [{'Key': 'Intersight.LicenseTier', 'Value': 'Premier'}],\n",
       "  'TopologyScanStatus': '',\n",
       "  'TotalMemory': 524288,\n",
       "  'UserLabel': '',\n",
       "  'Uuid': '13580D52-2F86-4FFC-BFD5-21CF1ACF0D88',\n",
       "  'Vendor': 'Cisco Systems Inc'},\n",
       " {'AccountMoid': '60c9136c7564612d334c51db',\n",
       "  'AdminPowerState': '',\n",
       "  'AlarmSummary': {'ClassId': 'compute.AlarmSummary',\n",
       "   'Critical': 0,\n",
       "   'ObjectType': 'compute.AlarmSummary',\n",
       "   'Warning': 0},\n",
       "  'Ancestors': [{'ClassId': 'mo.MoRef',\n",
       "    'Moid': '60d383e86176752d33534964',\n",
       "    'ObjectType': 'equipment.Chassis',\n",
       "    'link': 'https://www.intersight.com/api/v1/equipment/Chasses/60d383e86176752d33534964'}],\n",
       "  'AssetTag': '',\n",
       "  'AvailableMemory': 512,\n",
       "  'BiosPostComplete': True,\n",
       "  'ChassisId': '1',\n",
       "  'ClassId': 'compute.PhysicalSummary',\n",
       "  'ConnectionStatus': '',\n",
       "  'CpuCapacity': 166.4,\n",
       "  'CreateTime': '2021-06-23T19:01:40.581Z',\n",
       "  'DeviceMoId': '60d384a66f72612d33559224',\n",
       "  'Dn': '/redfish/v1/Systems/FCH243974UU',\n",
       "  'DomainGroupMoid': '60c9136c7564612d334c51dc',\n",
       "  'EquipmentChassis': {'ClassId': 'mo.MoRef',\n",
       "   'Moid': '60d383e86176752d33534964',\n",
       "   'ObjectType': 'equipment.Chassis',\n",
       "   'link': 'https://www.intersight.com/api/v1/equipment/Chasses/60d383e86176752d33534964'},\n",
       "  'FaultSummary': 0,\n",
       "  'Firmware': '4.1(5h)',\n",
       "  'InventoryDeviceInfo': None,\n",
       "  'Ipv4Address': '127.0.0.1',\n",
       "  'KvmIpAddresses': [],\n",
       "  'ManagementMode': 'Intersight',\n",
       "  'MemorySpeed': '3200',\n",
       "  'MgmtIpAddress': '',\n",
       "  'ModTime': '2021-08-03T22:25:00.809Z',\n",
       "  'Model': 'UCSX-210C-M6',\n",
       "  'Moid': '60d385146176752d3353f209',\n",
       "  'Name': 'AA16-6454-1-1',\n",
       "  'NumAdaptors': 1,\n",
       "  'NumCpuCores': 64,\n",
       "  'NumCpuCoresEnabled': 64,\n",
       "  'NumCpus': 2,\n",
       "  'NumEthHostInterfaces': 0,\n",
       "  'NumFcHostInterfaces': 0,\n",
       "  'NumThreads': 128,\n",
       "  'ObjectType': 'compute.PhysicalSummary',\n",
       "  'OperPowerState': 'on',\n",
       "  'OperReason': [],\n",
       "  'OperState': '',\n",
       "  'Operability': '',\n",
       "  'Owners': ['60c9136c7564612d334c51db',\n",
       "   '60d377506f72612d3084f1c6',\n",
       "   '60d384a66f72612d33559224'],\n",
       "  'Parent': {'ClassId': 'mo.MoRef',\n",
       "   'Moid': '60d383e86176752d33534964',\n",
       "   'ObjectType': 'equipment.Chassis',\n",
       "   'link': 'https://www.intersight.com/api/v1/equipment/Chasses/60d383e86176752d33534964'},\n",
       "  'PermissionResources': [{'ClassId': 'mo.MoRef',\n",
       "    'Moid': '60c9136f6972652d31ab7b71',\n",
       "    'ObjectType': 'organization.Organization',\n",
       "    'link': 'https://www.intersight.com/api/v1/organization/Organizations/60c9136f6972652d31ab7b71'},\n",
       "   {'ClassId': 'mo.MoRef',\n",
       "    'Moid': '60d3784d6972652d3101645f',\n",
       "    'ObjectType': 'organization.Organization',\n",
       "    'link': 'https://www.intersight.com/api/v1/organization/Organizations/60d3784d6972652d3101645f'}],\n",
       "  'PlatformType': 'IMCBlade',\n",
       "  'Presence': 'equipped',\n",
       "  'RegisteredDevice': {'ClassId': 'mo.MoRef',\n",
       "   'Moid': '60d384a66f72612d33559224',\n",
       "   'ObjectType': 'asset.DeviceRegistration',\n",
       "   'link': 'https://www.intersight.com/api/v1/asset/DeviceRegistrations/60d384a66f72612d33559224'},\n",
       "  'Revision': '',\n",
       "  'Rn': '',\n",
       "  'ScaledMode': '',\n",
       "  'Serial': 'FCH243974UU',\n",
       "  'ServerId': 0,\n",
       "  'ServiceProfile': '',\n",
       "  'SharedScope': '',\n",
       "  'SlotId': 1,\n",
       "  'SourceObjectType': 'compute.Blade',\n",
       "  'Tags': [{'Key': 'Intersight.LicenseTier', 'Value': 'Premier'}],\n",
       "  'TopologyScanStatus': '',\n",
       "  'TotalMemory': 524288,\n",
       "  'UserLabel': '',\n",
       "  'Uuid': '524CCB06-0DFC-4403-A072-FB88A66A0BB5',\n",
       "  'Vendor': 'Cisco Systems Inc'}]"
      ]
     },
     "execution_count": 23,
     "metadata": {},
     "output_type": "execute_result"
    }
   ],
   "source": [
    "response.json()['Results']"
   ]
  },
  {
   "cell_type": "markdown",
   "metadata": {},
   "source": [
    "## Let's see how many items were returned by `Results`\n",
    "`Results` is a list which we can use the `len()` BIF to see how many results are returned. The result should tell us how many physical items are returned by the call to `compute/PhysicalSummaries`."
   ]
  },
  {
   "cell_type": "code",
   "execution_count": 24,
   "metadata": {},
   "outputs": [
    {
     "data": {
      "text/plain": [
       "2"
      ]
     },
     "execution_count": 24,
     "metadata": {},
     "output_type": "execute_result"
    }
   ],
   "source": [
    "len(response.json()['Results'])"
   ]
  },
  {
   "cell_type": "markdown",
   "metadata": {},
   "source": [
    "## Results - bringing it all together\n",
    "Great! Now we see the number of physical compute devices and now we can pull more information from the returned JSON and organize it by Device, Chassis ID, Management Mode, Model, Memory, and CPU. The Management Mode shows if the phsyical compute device is managed in Intersight Management Mode.\n",
    "\n",
    "> Intersight Managed Mode (IMM) is a new architecture that manages the UCS Fabric Interconnected systems through a Redfish-based standard model. If you are familiar with the UCS blades, it means the Fabric Interconnect is fully managed by Intersight. Instead of having the familiar UCSM (UCS Manager) interface available directly from the Fabric Interconnect, the interface and all of the Fabric Interconnect operations are managed by Intersight.\n",
    "\n",
    "We do some CLI formatting to organize our data and see the type of compute hardware managed by Intersight along with its resources (memory and CPU). Then, we iterate over the JSON data and pull the data we're interested in seeing. In this instance, the Model shows the UCS-X series hardware.\n",
    "\n",
    "> Experiment! See if you can add more information to the list below by choosing other items from the returned JSON data above. For example, you could add a column with `NumCpuCores` and or `Ipv4Address`."
   ]
  },
  {
   "cell_type": "code",
   "execution_count": 25,
   "metadata": {},
   "outputs": [
    {
     "name": "stdout",
     "output_type": "stream",
     "text": [
      "Device   Chassis ID   Management Mode    Model           Memory     CPU       \n",
      "1        1            Intersight         UCSX-210C-M6    512        166.4     \n",
      "2        1            Intersight         UCSX-210C-M6    512        166.4     \n"
     ]
    }
   ],
   "source": [
    "print (\"{:<8} {:12} {:<18} {:<15} {:<10} {:<10}\".format('Device','Chassis ID','Management Mode','Model','Memory','CPU'))\n",
    "for num, items in enumerate(response.json()['Results'], start=1):\n",
    "    print (\"{:<8} {:<12} {:<18} {:<15} {:<10} {:<10}\".format(num, items['ChassisId'], items['ManagementMode'], items['Model'], items['AvailableMemory'], items['CpuCapacity']))"
   ]
  },
  {
   "cell_type": "markdown",
   "metadata": {},
   "source": [
    "# Example POST operation"
   ]
  },
  {
   "cell_type": "code",
   "execution_count": null,
   "metadata": {},
   "outputs": [],
   "source": []
  }
 ],
 "metadata": {
  "kernelspec": {
   "display_name": "Python 3",
   "language": "python",
   "name": "python3"
  },
  "language_info": {
   "codemirror_mode": {
    "name": "ipython",
    "version": 3
   },
   "file_extension": ".py",
   "mimetype": "text/x-python",
   "name": "python",
   "nbconvert_exporter": "python",
   "pygments_lexer": "ipython3",
   "version": "3.8.5"
  }
 },
 "nbformat": 4,
 "nbformat_minor": 4
}
