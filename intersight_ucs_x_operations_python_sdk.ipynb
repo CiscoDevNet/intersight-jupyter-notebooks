{
 "cells": [
  {
   "cell_type": "markdown",
   "source": [
    "# Intersight Python SDK Installation\n",
    "\n",
    "If you are familiar or proficient with Python, you can take advantage of the Intersight Python SDK available for install from the [Python Package Index](https://pypi.org/project/intersight/).\n",
    "\n",
    "![Python SDK for Cisco Intersight](images/python_sdk_pip.png)\n",
    "\n",
    "Notice the `pip install intersight` command. That's the command used to install the Python SDK in your environment.  Be sure you are using Python >= 3.6, earlier versions of Python are not supported.\n"
   ],
   "metadata": {}
  },
  {
   "cell_type": "code",
   "execution_count": null,
   "source": [
    "pip install intersight"
   ],
   "outputs": [],
   "metadata": {}
  },
  {
   "cell_type": "markdown",
   "source": [
    "\n",
    "> Be sure to uninstall any conflicting versions of the SDK if you have previous installs.  You can check installed versions with pip list."
   ],
   "metadata": {}
  },
  {
   "cell_type": "code",
   "execution_count": null,
   "source": [
    "pip list"
   ],
   "outputs": [],
   "metadata": {
    "dotnet_interactive": {
     "language": "pwsh"
    }
   }
  },
  {
   "cell_type": "markdown",
   "source": [
    "> If you see Intersight-OpenAPI installed, you can run `pip unistall Intersight-OpenAPI`"
   ],
   "metadata": {}
  },
  {
   "cell_type": "markdown",
   "source": [
    "## API Keys and User Authentication\n",
    "\n",
    "Now that the Intersight Python SDK is installed, let's use it to connect to our Intersight environment.  First, you'll need an Intersight API Key ID and secret (private) key from your Intersight account.  From the Settings menu in Intersight, Select API Keys and Generate API Key\n",
    "\n",
    "![Generate API Key](images/generate_api_key.png)\n",
    "\n",
    "A version 3 key can be used with the SDK and is recommended for long term compatibility with Intersight's API.\n",
    "\n",
    "![Version 3 key](images/version_3_key.png)\n",
    "\n",
    "The Generated API Key ID can be copied to the clipboard and used in API authentication below.  Also be sure to save the Secret (private) Key to a local file that only you have access to (a download option is provided by Intersight).\n",
    "\n",
    "![Download Secret Key](images/secret_key_download.png)\n",
    "\n",
    "### Using the Intersight Python SDK\n",
    "\n",
    "To use the SDK, you must import required modules.  You can view help once you've imported any required modules.\n"
   ],
   "metadata": {}
  },
  {
   "cell_type": "code",
   "execution_count": null,
   "source": [
    "import intersight\n",
    "\n",
    "# View the help\n",
    "help(intersight)"
   ],
   "outputs": [],
   "metadata": {}
  },
  {
   "cell_type": "markdown",
   "source": [
    "### API Client Configuration\n",
    "\n",
    "To use the SDK, you will need to configure an API client using the API Keys you created above.  You can view the help for Intesight's Configuration and ApiClient classes to see what is needed."
   ],
   "metadata": {}
  },
  {
   "cell_type": "code",
   "execution_count": null,
   "source": [
    "help(intersight.Configuration)\n"
   ],
   "outputs": [],
   "metadata": {}
  },
  {
   "cell_type": "code",
   "execution_count": null,
   "source": [
    "help(intersight.ApiClient)"
   ],
   "outputs": [],
   "metadata": {}
  },
  {
   "cell_type": "markdown",
   "source": [
    "### Example Usage\n",
    "\n",
    "We're now ready to create an API client and use it to connect with Intersight.\n",
    "\n",
    "> The values below only serve as an example so they won't work in your environment.  Be sure to enter the values for your account in the `key_id` variable below as well as the `private_key_path`.  Also be sure that you are using v3 API keys from your Intersight account."
   ],
   "metadata": {}
  },
  {
   "cell_type": "code",
   "execution_count": null,
   "source": [
    "configuration = intersight.Configuration(\n",
    "    signing_info=intersight.HttpSigningConfiguration(\n",
    "        key_id='596cc79e5d91b400010d15ad/5db71f977564612d30cc3860/5e9217a57564612d302f475b',\n",
    "        private_key_path='/Users/dsoper/Downloads/SecretKey.txt',\n",
    "        signing_scheme=intersight.signing.SCHEME_HS2019,\n",
    "        signed_headers=[intersight.signing.HEADER_HOST,\n",
    "                        intersight.signing.HEADER_DATE,\n",
    "                        intersight.signing.HEADER_DIGEST,\n",
    "                        intersight.signing.HEADER_REQUEST_TARGET\n",
    "                        ]\n",
    "    )\n",
    ")\n",
    "api_client = intersight.ApiClient(configuration)\n"
   ],
   "outputs": [],
   "metadata": {
    "dotnet_interactive": {
     "language": "pwsh"
    }
   }
  },
  {
   "cell_type": "markdown",
   "source": [
    "#### Querying the API\n",
    "\n",
    "Now that you are authenticated, let's use the SDK to query the Alarms resource in Intersight.  The example below sets up a query filter to get any Critical alarms that have occurred in the last 7 days."
   ],
   "metadata": {}
  },
  {
   "cell_type": "code",
   "execution_count": null,
   "source": [
    "from datetime import datetime, timedelta\n",
    "import intersight.api.cond_api\n",
    "\n",
    "# Get condition class instance\n",
    "api_instance = intersight.api.cond_api.CondApi(api_client)\n",
    "\n",
    "# Find all Critical severity alarms within the last 7 days\n",
    "search_period = datetime.now() - timedelta(days=7)\n",
    "# Convert date object to formatted date string for use with intersight queries\n",
    "date_str = f\"{search_period.strftime('%Y-%m-%dT%H:%M:%S.%f')[:-3]}Z\"\n",
    "query_filter = f\"Severity eq Critical and CreationTime gt {date_str}\"\n",
    "# Only include CreationTime, Description, Code, and Acknowledge in results\n",
    "query_select = \"CreationTime,Description,Code,Acknowledge\"\n",
    "\n",
    "# Get alarms using query parameters\n",
    "alarm_query = api_instance.get_cond_alarm_list(filter=query_filter, select=query_select)\n",
    "\n",
    "print(alarm_query)\n"
   ],
   "outputs": [],
   "metadata": {
    "dotnet_interactive": {
     "language": "pwsh"
    }
   }
  },
  {
   "cell_type": "markdown",
   "source": [
    "### Updating Resources\n",
    "\n",
    "Using data from the query above, we can update Alarm resources to acknowledge alarms.  To acknowledge an Alarm, set the acknowledge attribute to `Acknowledge`."
   ],
   "metadata": {}
  },
  {
   "cell_type": "code",
   "execution_count": null,
   "source": [
    "import intersight.model.cond_alarm\n",
    "\n",
    "alarm = intersight.model.cond_alarm.CondAlarm(acknowledge='Acknowledge')\n",
    "alarm_patch = api_instance.patch_cond_alarm(moid=alarm_query.results[0].moid, cond_alarm=alarm)"
   ],
   "outputs": [],
   "metadata": {}
  },
  {
   "cell_type": "markdown",
   "source": [
    "You can re-run the query example to confirm that the patch operation has changed Acknowledge state on the alarm."
   ],
   "metadata": {}
  },
  {
   "cell_type": "markdown",
   "source": [
    "### Additional Examples\n",
    "\n",
    "Several additional examples of using the SDK are on GitHub in the [Intersight Python Utilties repo](https://github.com/CiscoDevNet/intersight-python-utils).  The repo also contains a credentials.py module to simplify authentication across all of the example scripts."
   ],
   "metadata": {}
  },
  {
   "cell_type": "markdown",
   "source": [
    "### How to Learn More\n",
    "\n",
    "Additional information on the Intersight API is available on the [Intersight API Docs Pages](https://www.intersight.com/apidocs).  Intersight also features an in system [API schema browser](https://www.intersight.com/apidocs/apirefs/) where developers can view the complete resource model and interact with the API in their account.  As an example, you can view the [schema for Alarms](https://www.intersight.com/apidocs/apirefs/cond/Alarms/model/) and if you are signed in to your Intersight account you can also perform operations against the API.\n",
    "\n",
    "![API Reference Alarms](images/api_ref_alarms.png)"
   ],
   "metadata": {}
  },
  {
   "cell_type": "markdown",
   "source": [
    "Your browser developer console can also be used to view API calls (all browser actions use the API).  In Chrome for example, you can right click and select Inspect to view the developer console.\n",
    "\n",
    "![Chrome Inspect](images/chrome_inspect.png)\n",
    "\n",
    "The Network tab shows details on all API calls performed by the browser including query strings used to retrieve specific data.\n",
    "\n",
    "![Chrome Network Tab](images/chrome_network_tab.png)"
   ],
   "metadata": {}
  }
 ],
 "metadata": {
  "kernelspec": {
   "name": "python3",
   "display_name": "Python 3.9.4 64-bit"
  },
  "language_info": {
   "name": "python",
   "version": "3.9.4",
   "mimetype": "text/x-python",
   "codemirror_mode": {
    "name": "ipython",
    "version": 3
   },
   "pygments_lexer": "ipython3",
   "nbconvert_exporter": "python",
   "file_extension": ".py"
  },
  "interpreter": {
   "hash": "aee8b7b246df8f9039afb4144a1f6fd8d2ca17a180786b69acc140d282b71a49"
  }
 },
 "nbformat": 4,
 "nbformat_minor": 4
}